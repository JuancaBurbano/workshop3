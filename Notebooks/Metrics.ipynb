{
 "cells": [
  {
   "cell_type": "code",
   "execution_count": 6,
   "metadata": {},
   "outputs": [],
   "source": [
    "import pandas as pd\n",
    "import sqlalchemy\n",
    "from sqlalchemy import create_engine\n",
    "import json\n",
    "import mysql.connector\n",
    "import sqlalchemy\n",
    "from sqlalchemy import create_engine\n",
    "import json\n",
    "import mysql.connector"
   ]
  },
  {
   "cell_type": "code",
   "execution_count": 7,
   "metadata": {},
   "outputs": [
    {
     "data": {
      "text/plain": [
       "<mysql.connector.connection_cext.CMySQLConnection at 0x249e6af54c0>"
      ]
     },
     "execution_count": 7,
     "metadata": {},
     "output_type": "execute_result"
    }
   ],
   "source": [
    "with open('../Config/credentials2.json', 'r') as json_file:\n",
    "    credentials = json.load(json_file)\n",
    "\n",
    "connection = mysql.connector.connect(\n",
    "    host=credentials['host'],\n",
    "    user=credentials['user'],\n",
    "    password=credentials['password'],\n",
    "    database = credentials[\"database\"]\n",
    ")\n",
    "\n",
    "connection"
   ]
  },
  {
   "cell_type": "code",
   "execution_count": 8,
   "metadata": {},
   "outputs": [],
   "source": [
    "with open('../Config/credentials2.json', 'r') as json_file:\n",
    "    keys = json.load(json_file)\n",
    "    host = keys[\"host\"]\n",
    "    database = keys[\"database\"]\n",
    "    user = keys[\"user\"]\n",
    "    password = keys[\"password\"]\n",
    "database_connection = f\"mysql+mysqlconnector://{user}:{password}@{host}/{database}\"\n",
    "engine = create_engine(database_connection)"
   ]
  },
  {
   "cell_type": "code",
   "execution_count": 9,
   "metadata": {},
   "outputs": [
    {
     "name": "stdout",
     "output_type": "stream",
     "text": [
      "   gdp_per_capita  life_expectancy  freedom  corruption  generosity  \\\n",
      "0        1.300000         0.999000  0.56400    0.151000     0.37500   \n",
      "1        0.670240         0.568440  0.17744    0.106130     0.11154   \n",
      "2        0.985490         0.602370  0.00000    0.137880     0.17922   \n",
      "3        0.422140         0.038240  0.12807    0.049520     0.18667   \n",
      "4        1.153184         0.709979  0.41273    0.132774     0.12099   \n",
      "\n",
      "   year_2015  year_2016  year_2017  year_2018  year_2019  predictions_score  \\\n",
      "0        0.0        0.0        0.0        0.0        1.0           6.700403   \n",
      "1        0.0        1.0        0.0        0.0        0.0           4.576819   \n",
      "2        1.0        0.0        0.0        0.0        0.0           4.656019   \n",
      "3        0.0        1.0        0.0        0.0        0.0           3.463084   \n",
      "4        0.0        0.0        1.0        0.0        0.0           5.731495   \n",
      "\n",
      "   score  \n",
      "0  6.726  \n",
      "1  4.754  \n",
      "2  4.677  \n",
      "3  3.763  \n",
      "4  6.578  \n"
     ]
    }
   ],
   "source": [
    "df_from_sql = pd.read_sql('happiness_info', con=engine)\n",
    "print(df_from_sql.head())"
   ]
  },
  {
   "cell_type": "code",
   "execution_count": 11,
   "metadata": {},
   "outputs": [
    {
     "name": "stdout",
     "output_type": "stream",
     "text": [
      "(R^2): 0.7858492077744521\n"
     ]
    }
   ],
   "source": [
    "from sklearn.metrics import r2_score\n",
    "r2 = r2_score(df_from_sql['score'], df_from_sql['predictions_score'])\n",
    "print(f'(R^2): {r2}')"
   ]
  }
 ],
 "metadata": {
  "kernelspec": {
   "display_name": "entorno_kafka",
   "language": "python",
   "name": "python3"
  },
  "language_info": {
   "codemirror_mode": {
    "name": "ipython",
    "version": 3
   },
   "file_extension": ".py",
   "mimetype": "text/x-python",
   "name": "python",
   "nbconvert_exporter": "python",
   "pygments_lexer": "ipython3",
   "version": "3.12.2"
  }
 },
 "nbformat": 4,
 "nbformat_minor": 2
}
